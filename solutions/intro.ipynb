{
 "cells": [
  {
   "cell_type": "markdown",
   "id": "48bca62a-b133-46e7-96ad-698581d28bb5",
   "metadata": {},
   "source": [
    "# MARBL Diagnostics\n",
    "This is an example of using `xpersit`/`xcollection` for MARBL diagnostics."
   ]
  },
  {
   "cell_type": "code",
   "execution_count": null,
   "id": "3d8924c0-c544-4be4-ba89-900894adf2f8",
   "metadata": {},
   "outputs": [],
   "source": []
  }
 ],
 "metadata": {
  "kernelspec": {
   "display_name": "Python 3 (ipykernel)",
   "language": "python",
   "name": "python3"
  },
  "language_info": {
   "codemirror_mode": {
    "name": "ipython",
    "version": 3
   },
   "file_extension": ".py",
   "mimetype": "text/x-python",
   "name": "python",
   "nbconvert_exporter": "python",
   "pygments_lexer": "ipython3",
   "version": "3.9.7"
  }
 },
 "nbformat": 4,
 "nbformat_minor": 5
}
